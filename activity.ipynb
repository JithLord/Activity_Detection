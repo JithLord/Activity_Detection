import os
 
from tensorflow.keras import layers
from tensorflow.keras import Model
import tensorflow as tf
 
class myCallback(tf.keras.callbacks.Callback):
      def on_epoch_end(self, epoch, logs={}):
          if(logs.get('acc')>0.8) and (logs.get('val_acc')>0.8):
            self.model.stop_training = True
  
callbacks = myCallback()
img_height=300
img_weight=300
from keras_preprocessing.image import ImageDataGenerator
import tensorflow as tf
 
TRAINING_DIR = r"/content/drive/My Drive/Dataset/Images"
training_datagen = ImageDataGenerator(
    rescale = 1./255,
    # rotation_range=10,
    # width_shift_range=0.3,
    # height_shift_range=0.3,
    featurewise_std_normalization=True, 
    samplewise_std_normalization=True,
    brightness_range=(0.2,0.5),
    # shear_range=0.2,
    # zoom_range=0.2,
    horizontal_flip=True,
    fill_mode='nearest')
 
VALIDATION_DIR = "/content/drive/My Drive/Dataset/Validation"
validation_datagen = ImageDataGenerator(rescale = 1./255)
 
train_generator = training_datagen.flow_from_directory(
    TRAINING_DIR,
    target_size=(img_height, img_weight),
    class_mode='categorical',
  batch_size=2
)
 
validation_generator = validation_datagen.flow_from_directory(
    VALIDATION_DIR,
    target_size=(img_height, img_weight),
    class_mode='categorical',
  batch_size=2
)

# model.save("activity2.h5")

from tensorflow.keras import layers
model = tf.keras.models.Sequential([
    layers.experimental.preprocessing.Rescaling(1./255, input_shape=(img_height, img_weight, 3)),
    tf.keras.layers.Conv2D(16, (3,3), padding='same'),
    tf.keras.layers.MaxPooling2D(2, 2),
    tf.keras.layers.BatchNormalization(),
    tf.keras.layers.Conv2D(32, (3,3), padding='same'),
    tf.keras.layers.MaxPooling2D(2, 2),
    tf.keras.layers.BatchNormalization(),
    tf.keras.layers.Conv2D(64, (3,3), padding='same'),
    tf.keras.layers.MaxPooling2D(2, 2),
    tf.keras.layers.BatchNormalization(),
    tf.keras.layers.Conv2D(128, (3,3)),
    tf.keras.layers.MaxPooling2D(2, 2),
    tf.keras.layers.BatchNormalization(),
    # tf.keras.layers.Conv2D(64, (3,3)),
    # tf.keras.layers.MaxPooling2D(2, 2),
    # tf.keras.layers.BatchNormalization(),
    layers.Dropout(0.2),
    tf.keras.layers.Flatten(),
    tf.keras.layers.Dense(2048, activation='relu'),
    tf.keras.layers.Dense(7, activation='softmax')
])
 
 
model.summary()
 
model.compile(loss = tf.keras.losses.CategoricalCrossentropy(), optimizer=tf.keras.optimizers.RMSprop(learning_rate=0.00010), metrics=['acc'])
 
history = model.fit(train_generator, epochs=1000, steps_per_epoch=10, validation_data = validation_generator, verbose = 1, validation_steps=1, callbacks=[callbacks])
 
 
import matplotlib.pyplot as plt
acc = history.history['acc']
val_acc = history.history['val_acc']
loss = history.history['loss']
val_loss = history.history['val_loss']
 
epochs = range(len(acc))
epochs1 = range(len(val_acc))
print("val_loss",val_loss)
plt.subplot(1, 2, 1)
plt.plot(epochs, acc, 'r', label='Training accuracy')
plt.plot(epochs1, val_acc, 'b', label='Validation accuracy')
plt.title('Training and validation accuracy')
plt.legend(loc=0)
plt.figure()
 
plt.subplot(1, 2, 2)
plt.plot(epochs, loss, 'r', label='Training accuracy')
plt.plot(epochs1, val_loss, 'b', label='Validation accuracy')


import matplotlib.pyplot as plt
acc = history.history['acc']
val_acc = history.history['val_acc']
loss = history.history['loss']
val_loss = history.history['val_loss']
 
epochs = range(len(acc))
epochs1 = range(len(val_acc))
print("val_loss",val_loss)
plt.plot(epochs, acc, 'r', label='Training accuracy')
plt.plot(epochs1, val_acc, 'b', label='Validation accuracy')
plt.title('Training and validation accuracy')
plt.legend(loc=0)
plt.figure()
